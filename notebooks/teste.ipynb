{
 "cells": [
  {
   "cell_type": "code",
   "execution_count": null,
   "metadata": {},
   "outputs": [],
   "source": [
    "print('Main - célula 1')"
   ]
  },
  {
   "cell_type": "code",
   "execution_count": null,
   "metadata": {},
   "outputs": [],
   "source": [
    "\n",
    "print('Dev - célula 2')"
   ]
  },
  {
   "cell_type": "code",
   "execution_count": null,
   "metadata": {},
   "outputs": [],
   "source": [
    "print('Dev - célula 3')"
   ]
  }
 ],
 "metadata": {
  "kernelspec": {
   "display_name": "Python 3",
   "language": "python",
   "name": "python3"
  },
  "language_info": {
   "name": "python",
   "version": "3.9.13 (main, Oct 13 2022, 21:23:06) [MSC v.1916 64 bit (AMD64)]"
  },
  "nbdime-conflicts": {
   "local_diff": [
    {
     "key": "language_info",
     "op": "add",
     "value": {
      "name": "python",
      "version": "3.9.13 (main, Oct 13 2022, 21:23:06) [MSC v.1916 64 bit (AMD64)]"
     }
    },
    {
     "key": "vscode",
     "op": "add",
     "value": {
      "interpreter": {
       "hash": "410a2bf828ee3b849667c70238e457299e6eb208ed40ce4756d6cea189985a9f"
      }
     }
    }
   ],
   "remote_diff": [
    {
     "key": "language_info",
     "op": "add",
     "value": {
      "codemirror_mode": {
       "name": "ipython",
       "version": 3
      },
      "file_extension": ".py",
      "mimetype": "text/x-python",
      "name": "python",
      "nbconvert_exporter": "python",
      "pygments_lexer": "ipython3",
      "version": "3.9.13"
     }
    },
    {
     "key": "vscode",
     "op": "add",
     "value": {
      "interpreter": {
       "hash": "02b2cbf239989bb101797acc52e73ae36ebb8067099c4b86bf0d83adc2fff4ed"
      }
     }
    }
   ]
  },
  "vscode": {
   "interpreter": {
    "hash": "410a2bf828ee3b849667c70238e457299e6eb208ed40ce4756d6cea189985a9f"
   }
  }
 },
 "nbformat": 4,
 "nbformat_minor": 2
}
