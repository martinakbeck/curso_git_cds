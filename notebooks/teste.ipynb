{
 "cells": [
  {
   "cell_type": "code",
   "execution_count": 4,
   "metadata": {},
   "outputs": [
    {
     "name": "stdout",
     "output_type": "stream",
     "text": [
      "Main - célula 1\n"
     ]
    }
   ],
   "source": [
    "print('Main - célula 1')"
   ]
  },
  {
   "cell_type": "code",
   "execution_count": 5,
   "metadata": {},
   "outputs": [
    {
     "name": "stdout",
     "output_type": "stream",
     "text": [
      "Main - célula 2\n"
     ]
    }
   ],
   "source": [
    "print('Main - célula 2')"
   ]
  },
  {
   "cell_type": "code",
   "execution_count": 6,
   "metadata": {},
   "outputs": [
    {
     "name": "stdout",
     "output_type": "stream",
     "text": [
      "Main - célula 3\n"
     ]
    }
   ],
   "source": [
    "print('Main - célula 3')"
   ]
  }
 ],
 "metadata": {
  "kernelspec": {
   "display_name": "Python 3",
   "language": "python",
   "name": "python3"
  },
  "language_info": {
   "name": "python",
   "version": "3.9.13 (main, Oct 13 2022, 21:23:06) [MSC v.1916 64 bit (AMD64)]"
  },
  "orig_nbformat": 4,
  "vscode": {
   "interpreter": {
    "hash": "410a2bf828ee3b849667c70238e457299e6eb208ed40ce4756d6cea189985a9f"
   }
  }
 },
 "nbformat": 4,
 "nbformat_minor": 2
}
